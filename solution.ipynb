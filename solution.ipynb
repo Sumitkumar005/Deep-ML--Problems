{
 "cells": [
  {
   "cell_type": "markdown",
   "metadata": {},
   "source": [
    "# Detect Overfitting or Underfitting\n",
    "\n",
    "Write a Python function to determine whether a machine learning model is overfitting, underfitting, or performing well based on training and test accuracy values. The function should take two inputs: training_accuracy and test_accuracy. It should return one of three values: 1 if Overfitting, -1 if Underfitting, or 0 if a Good fit. The rules for determination are as follows:\n",
    "\n",
    "Overfitting: The training accuracy is significantly higher than the test accuracy (difference > 0.2).\n",
    "Underfitting: Both training and test accuracy are below 0.7.\n",
    "Good fit: Neither of the above conditions is true.\n",
    "Example:\n",
    "Input:\n",
    "training_accuracy = 0.95, test_accuracy = 0.65\n",
    "Output:\n",
    "'1'\n",
    "Reasoning:\n",
    "The training accuracy is much higher than the test accuracy (difference = 0.30 > 0.2). This indicates that the model is overfitting to the training data and generalizes poorly to unseen data."
   ]
  },
  {
   "cell_type": "code",
   "execution_count": null,
   "metadata": {},
   "outputs": [],
   "source": []
  },
  {
   "cell_type": "code",
   "execution_count": null,
   "metadata": {},
   "outputs": [],
   "source": [
    "def model_fit_quality(training_accuracy, test_accuracy):\n",
    "\t\"\"\"\n",
    "\tDetermine if the model is overfitting, underfitting, or a good fit based on training and test accuracy.\n",
    "\t:param training_accuracy: float, training accuracy of the model (0 <= training_accuracy <= 1)\n",
    "\t:param test_accuracy: float, test accuracy of the model (0 <= test_accuracy <= 1)\n",
    "\t:return: int, one of '1', '-1', or '0'.\n",
    "\t\"\"\"\n",
    "\t# Your code here\n",
    "\tpass"
   ]
  }
 ],
 "metadata": {
  "kernelspec": {
   "display_name": "Python 3",
   "language": "python",
   "name": "python3"
  },
  "language_info": {
   "codemirror_mode": {
    "name": "ipython",
    "version": 3
   },
   "file_extension": ".py",
   "mimetype": "text/x-python",
   "name": "python",
   "nbconvert_exporter": "python",
   "pygments_lexer": "ipython3",
   "version": "3.8.5"
  }
 },
 "nbformat": 4,
 "nbformat_minor": 4
}
